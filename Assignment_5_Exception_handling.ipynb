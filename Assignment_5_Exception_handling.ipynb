{
 "cells": [
  {
   "cell_type": "code",
   "execution_count": 1,
   "id": "fb31b587",
   "metadata": {},
   "outputs": [],
   "source": [
    "#Write a function to compute 5/0 and use try/except to catch the exceptions."
   ]
  },
  {
   "cell_type": "code",
   "execution_count": 5,
   "id": "521232a6",
   "metadata": {},
   "outputs": [],
   "source": [
    "def division(number):\n",
    "    try:\n",
    "        number/0\n",
    "    except Exception as e:\n",
    "        print(e)\n",
    "        print(\"Division by Zero is not allowed, Kindly enter a number greater than zero\")"
   ]
  },
  {
   "cell_type": "code",
   "execution_count": 6,
   "id": "04f6b9ed",
   "metadata": {},
   "outputs": [
    {
     "name": "stdout",
     "output_type": "stream",
     "text": [
      "division by zero\n",
      "Division by Zero is not allowed, Kindly enter a number greater than zero\n"
     ]
    }
   ],
   "source": [
    "division(9)"
   ]
  },
  {
   "cell_type": "code",
   "execution_count": 7,
   "id": "4e71572f",
   "metadata": {},
   "outputs": [],
   "source": [
    "#Implement a Python program to generate all sentences \n",
    "#where subject is in [\"Americans\", \"Indians\"] and \n",
    "#verb is in [\"Play\", \"watch\"] and \n",
    "#the object is in [\"Baseball\",\"cricket\"]."
   ]
  },
  {
   "cell_type": "code",
   "execution_count": 38,
   "id": "8cab9463",
   "metadata": {},
   "outputs": [],
   "source": [
    "def sentence_making(subject,verb,object_):\n",
    "    sentence=[]\n",
    "    list_1=[]\n",
    "    try:\n",
    "        sentence= [ i+\" \" + p + \" \"+v for i in subject for p in verb  for v in object_]\n",
    "    except Exception as e:\n",
    "        print(e)\n",
    "    return sentence\n",
    "        "
   ]
  },
  {
   "cell_type": "code",
   "execution_count": 41,
   "id": "33c59484",
   "metadata": {},
   "outputs": [
    {
     "name": "stdout",
     "output_type": "stream",
     "text": [
      "can only concatenate str (not \"int\") to str\n"
     ]
    }
   ],
   "source": [
    "sen=sentence_making(subject=[\"Americans\", \"Indians\",\"Britishers\"],verb=[\"Play\", \"watch\"],object_=[\"Baseball\",\"cricket\"])"
   ]
  },
  {
   "cell_type": "code",
   "execution_count": 40,
   "id": "9a5953a6",
   "metadata": {},
   "outputs": [
    {
     "name": "stdout",
     "output_type": "stream",
     "text": [
      "Americans Play Baseball\n",
      "Americans Play cricket\n",
      "Americans watch Baseball\n",
      "Americans watch cricket\n",
      "Indians Play Baseball\n",
      "Indians Play cricket\n",
      "Indians watch Baseball\n",
      "Indians watch cricket\n",
      "Britishers Play Baseball\n",
      "Britishers Play cricket\n",
      "Britishers watch Baseball\n",
      "Britishers watch cricket\n"
     ]
    }
   ],
   "source": [
    "for i in sen:\n",
    "    print(i)"
   ]
  },
  {
   "cell_type": "code",
   "execution_count": 42,
   "id": "f3ada922",
   "metadata": {},
   "outputs": [
    {
     "name": "stdout",
     "output_type": "stream",
     "text": [
      "can only concatenate str (not \"int\") to str\n"
     ]
    }
   ],
   "source": [
    "sen=sentence_making(subject=[\"Americans\", \"Indians\",\"Britishers\"],verb=[1, \"watch\"],object_=[\"Baseball\",\"cricket\"])"
   ]
  },
  {
   "cell_type": "code",
   "execution_count": null,
   "id": "a2e97603",
   "metadata": {},
   "outputs": [],
   "source": []
  }
 ],
 "metadata": {
  "kernelspec": {
   "display_name": "Python 3",
   "language": "python",
   "name": "python3"
  },
  "language_info": {
   "codemirror_mode": {
    "name": "ipython",
    "version": 3
   },
   "file_extension": ".py",
   "mimetype": "text/x-python",
   "name": "python",
   "nbconvert_exporter": "python",
   "pygments_lexer": "ipython3",
   "version": "3.8.8"
  }
 },
 "nbformat": 4,
 "nbformat_minor": 5
}
