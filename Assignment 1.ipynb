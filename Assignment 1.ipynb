{
 "cells": [
  {
   "cell_type": "markdown",
   "id": "820f751e",
   "metadata": {},
   "source": [
    "# Assignment 1\n"
   ]
  },
  {
   "cell_type": "code",
   "execution_count": null,
   "id": "f7c0b014",
   "metadata": {},
   "outputs": [],
   "source": [
    "# First Problem"
   ]
  },
  {
   "cell_type": "markdown",
   "id": "0d684fb7",
   "metadata": {},
   "source": [
    "#Printing the number divisible by 7 but not by 5 between the  range 2500 and 3200 (both included)\n",
    "range(2500,3201)"
   ]
  },
  {
   "cell_type": "code",
   "execution_count": null,
   "id": "788b3de1",
   "metadata": {},
   "outputs": [],
   "source": [
    "for i in range(2500,3201):\n",
    "    if i%7== 0 and i%5 != 0:\n",
    "        print (i, end=\",\")"
   ]
  },
  {
   "cell_type": "code",
   "execution_count": null,
   "id": "1f8a30f6",
   "metadata": {},
   "outputs": [],
   "source": [
    "# Second Problem"
   ]
  },
  {
   "cell_type": "code",
   "execution_count": null,
   "id": "e3b5fb01",
   "metadata": {},
   "outputs": [],
   "source": [
    "# Reversing the name"
   ]
  },
  {
   "cell_type": "code",
   "execution_count": 11,
   "id": "5b2545a1",
   "metadata": {},
   "outputs": [
    {
     "name": "stdout",
     "output_type": "stream",
     "text": [
      "Enter your First Name -->naman\n",
      "Enter your Last Name -->jain\n",
      "niaj naman\n"
     ]
    }
   ],
   "source": [
    "name = input(\"Enter your First Name -->\")\n",
    "lname= input(\"Enter your Last Name -->\")\n",
    "name = name.lower()\n",
    "lname =lname.lower()\n",
    "\n",
    "\n",
    "print(lname[-1::-1] + \" \" + name[-1::-1])"
   ]
  },
  {
   "cell_type": "code",
   "execution_count": null,
   "id": "5cd21be6",
   "metadata": {},
   "outputs": [],
   "source": []
  },
  {
   "cell_type": "code",
   "execution_count": 13,
   "id": "45e2b1cf",
   "metadata": {},
   "outputs": [],
   "source": [
    "# 3 Problem\n",
    "import math "
   ]
  },
  {
   "cell_type": "code",
   "execution_count": 17,
   "id": "9c84b1b7",
   "metadata": {},
   "outputs": [
    {
     "name": "stdout",
     "output_type": "stream",
     "text": [
      "The volume of Sphere with a Diameter 12 is 904.7786842338603\n"
     ]
    }
   ],
   "source": [
    "diameter = 12\n",
    "radius = diameter/2\n",
    "Volume = ((4/3)* math.pi * (radius ** 3))\n",
    "print(\"The volume of Sphere with a Diameter 12 is {}\".format(Volume))"
   ]
  },
  {
   "cell_type": "code",
   "execution_count": null,
   "id": "f725d62d",
   "metadata": {},
   "outputs": [],
   "source": []
  }
 ],
 "metadata": {
  "kernelspec": {
   "display_name": "Python 3",
   "language": "python",
   "name": "python3"
  },
  "language_info": {
   "codemirror_mode": {
    "name": "ipython",
    "version": 3
   },
   "file_extension": ".py",
   "mimetype": "text/x-python",
   "name": "python",
   "nbconvert_exporter": "python",
   "pygments_lexer": "ipython3",
   "version": "3.8.8"
  }
 },
 "nbformat": 4,
 "nbformat_minor": 5
}
