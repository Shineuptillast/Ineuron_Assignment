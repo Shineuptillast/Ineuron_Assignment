{
 "cells": [
  {
   "cell_type": "markdown",
   "id": "820f751e",
   "metadata": {},
   "source": [
    "# Assignment 1\n"
   ]
  },
  {
   "cell_type": "code",
   "execution_count": null,
   "id": "f7c0b014",
   "metadata": {},
   "outputs": [],
   "source": [
    "# First Problem"
   ]
  },
  {
   "cell_type": "code",
   "execution_count": null,
   "id": "8560017c",
   "metadata": {},
   "outputs": [],
   "source": [
    "#Printing the number divisible by 7 but not by 5 between the  range 2500 and 3200 (both included)\n",
    "range(2500,3201)"
   ]
  },
  {
   "cell_type": "code",
   "execution_count": 18,
   "id": "788b3de1",
   "metadata": {},
   "outputs": [
    {
     "name": "stdout",
     "output_type": "stream",
     "text": [
      "2506,2513,2527,2534,2541,2548,2562,2569,2576,2583,2597,2604,2611,2618,2632,2639,2646,2653,2667,2674,2681,2688,2702,2709,2716,2723,2737,2744,2751,2758,2772,2779,2786,2793,2807,2814,2821,2828,2842,2849,2856,2863,2877,2884,2891,2898,2912,2919,2926,2933,2947,2954,2961,2968,2982,2989,2996,3003,3017,3024,3031,3038,3052,3059,3066,3073,3087,3094,3101,3108,3122,3129,3136,3143,3157,3164,3171,3178,3192,3199,"
     ]
    }
   ],
   "source": [
    "for i in range(2500,3201):\n",
    "    if i%7== 0 and i%5 != 0:\n",
    "        print (i, end=\",\")"
   ]
  },
  {
   "cell_type": "code",
   "execution_count": null,
   "id": "1f8a30f6",
   "metadata": {},
   "outputs": [],
   "source": [
    "# Second Problem"
   ]
  },
  {
   "cell_type": "code",
   "execution_count": null,
   "id": "e3b5fb01",
   "metadata": {},
   "outputs": [],
   "source": [
    "# Reversing the name"
   ]
  },
  {
   "cell_type": "code",
   "execution_count": 11,
   "id": "5b2545a1",
   "metadata": {},
   "outputs": [
    {
     "name": "stdout",
     "output_type": "stream",
     "text": [
      "Enter your First Name -->naman\n",
      "Enter your Last Name -->jain\n",
      "niaj naman\n"
     ]
    }
   ],
   "source": [
    "name = input(\"Enter your First Name -->\")\n",
    "lname= input(\"Enter your Last Name -->\")\n",
    "name = name.lower()\n",
    "lname =lname.lower()\n",
    "\n",
    "\n",
    "print(lname[-1::-1] + \" \" + name[-1::-1])"
   ]
  },
  {
   "cell_type": "code",
   "execution_count": null,
   "id": "5cd21be6",
   "metadata": {},
   "outputs": [],
   "source": []
  },
  {
   "cell_type": "code",
   "execution_count": 13,
   "id": "45e2b1cf",
   "metadata": {},
   "outputs": [],
   "source": [
    "# 3 Problem\n",
    "import math "
   ]
  },
  {
   "cell_type": "code",
   "execution_count": 17,
   "id": "9c84b1b7",
   "metadata": {},
   "outputs": [
    {
     "name": "stdout",
     "output_type": "stream",
     "text": [
      "The volume of Sphere with a Diameter 12 is 904.7786842338603\n"
     ]
    }
   ],
   "source": [
    "diameter = 12\n",
    "radius = diameter/2\n",
    "Volume = ((4/3)* math.pi * (radius ** 3))\n",
    "print(\"The volume of Sphere with a Diameter 12 is {}\".format(Volume))"
   ]
  },
  {
   "cell_type": "code",
   "execution_count": null,
   "id": "f725d62d",
   "metadata": {},
   "outputs": [],
   "source": []
  }
 ],
 "metadata": {
  "kernelspec": {
   "display_name": "Python 3",
   "language": "python",
   "name": "python3"
  },
  "language_info": {
   "codemirror_mode": {
    "name": "ipython",
    "version": 3
   },
   "file_extension": ".py",
   "mimetype": "text/x-python",
   "name": "python",
   "nbconvert_exporter": "python",
   "pygments_lexer": "ipython3",
   "version": "3.8.8"
  }
 },
 "nbformat": 4,
 "nbformat_minor": 5
}
