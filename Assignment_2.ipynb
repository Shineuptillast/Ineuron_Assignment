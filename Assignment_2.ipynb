{
 "cells": [
  {
   "cell_type": "code",
   "execution_count": 1,
   "id": "853fff46",
   "metadata": {},
   "outputs": [],
   "source": [
    "# 1 problem"
   ]
  },
  {
   "cell_type": "markdown",
   "id": "4b4c6655",
   "metadata": {},
   "source": [
    "\"\"\"\n",
    "Print this pattern\n",
    "\n",
    "\n",
    "\n",
    "*\n",
    "* *\n",
    "* * *\n",
    "* * * *\n",
    "* * * * *\n",
    "* * * *\n",
    "* * *\n",
    "* *\n",
    "*\n",
    "\n",
    "\n",
    "\n",
    "\"\"\""
   ]
  },
  {
   "cell_type": "code",
   "execution_count": 19,
   "id": "e26250ff",
   "metadata": {},
   "outputs": [
    {
     "name": "stdout",
     "output_type": "stream",
     "text": [
      "enter the number for the pattern-->5\n",
      "* \n",
      "\n",
      "* * \n",
      "\n",
      "* * * \n",
      "\n",
      "* * * * \n",
      "\n",
      "* * * * * \n",
      "\n",
      "* * * * \n",
      "\n",
      "* * * \n",
      "\n",
      "* * \n",
      "\n",
      "* \n",
      "\n"
     ]
    }
   ],
   "source": [
    "ip= int(input(\"enter the number for the pattern-->\"))\n",
    "i=1\n",
    "p=2*ip\n",
    "while i<2*ip:\n",
    "    if i<=ip:\n",
    "        for io in range(i):\n",
    "            print(\"*\", end=\" \")\n",
    "        print(\"\\n\")    \n",
    "   \n",
    "    elif i>ip :\n",
    "        for io in range(p-i, 0,-1):\n",
    "            print(\"*\" , end=\" \")\n",
    "        print(\"\\n\")\n",
    "    i=i+1"
   ]
  },
  {
   "cell_type": "code",
   "execution_count": null,
   "id": "7dfbadc8",
   "metadata": {},
   "outputs": [],
   "source": []
  },
  {
   "cell_type": "code",
   "execution_count": null,
   "id": "5f79adb7",
   "metadata": {},
   "outputs": [],
   "source": []
  },
  {
   "cell_type": "code",
   "execution_count": null,
   "id": "6350ace8",
   "metadata": {},
   "outputs": [],
   "source": [
    "# 2 problem"
   ]
  },
  {
   "cell_type": "code",
   "execution_count": 20,
   "id": "ff5976fd",
   "metadata": {},
   "outputs": [
    {
     "name": "stdout",
     "output_type": "stream",
     "text": [
      "Enter the word to be reversed-->Ineuron\n",
      "noruenI\n"
     ]
    }
   ],
   "source": [
    "rev_str= input(\"Enter the word to be reversed-->\")\n",
    "rev__= rev_str[-1::-1]\n",
    "print(rev__)"
   ]
  },
  {
   "cell_type": "code",
   "execution_count": null,
   "id": "6090a65d",
   "metadata": {},
   "outputs": [],
   "source": []
  },
  {
   "cell_type": "code",
   "execution_count": null,
   "id": "3e985b67",
   "metadata": {},
   "outputs": [],
   "source": []
  },
  {
   "cell_type": "code",
   "execution_count": null,
   "id": "9552f838",
   "metadata": {},
   "outputs": [],
   "source": []
  }
 ],
 "metadata": {
  "kernelspec": {
   "display_name": "Python 3",
   "language": "python",
   "name": "python3"
  },
  "language_info": {
   "codemirror_mode": {
    "name": "ipython",
    "version": 3
   },
   "file_extension": ".py",
   "mimetype": "text/x-python",
   "name": "python",
   "nbconvert_exporter": "python",
   "pygments_lexer": "ipython3",
   "version": "3.8.8"
  }
 },
 "nbformat": 4,
 "nbformat_minor": 5
}
