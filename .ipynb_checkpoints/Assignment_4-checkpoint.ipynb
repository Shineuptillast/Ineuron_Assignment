{
 "cells": [
  {
   "cell_type": "code",
   "execution_count": 1,
   "id": "8b95bcf0",
   "metadata": {},
   "outputs": [],
   "source": [
    "#Write a Python function which takes a character (i.e. a string of length 1) and returns True if\n",
    "#it is a vowel, False otherwise."
   ]
  },
  {
   "cell_type": "code",
   "execution_count": 9,
   "id": "ea249ea9",
   "metadata": {},
   "outputs": [],
   "source": [
    "def isVowel(check):\n",
    "    check=check.lower()\n",
    "    if check == \"a\" or check ==\"e\" or check == \"i\" or check ==\"o\" or check == \"u\":\n",
    "        return True\n",
    "    else:\n",
    "        return False\n",
    "    "
   ]
  },
  {
   "cell_type": "code",
   "execution_count": 14,
   "id": "198d2771",
   "metadata": {},
   "outputs": [
    {
     "data": {
      "text/plain": [
       "False"
      ]
     },
     "execution_count": 14,
     "metadata": {},
     "output_type": "execute_result"
    }
   ],
   "source": [
    "isVowel(\"r\")"
   ]
  },
  {
   "cell_type": "code",
   "execution_count": 15,
   "id": "452cb84a",
   "metadata": {},
   "outputs": [
    {
     "data": {
      "text/plain": [
       "True"
      ]
     },
     "execution_count": 15,
     "metadata": {},
     "output_type": "execute_result"
    }
   ],
   "source": [
    "isVowel(\"O\")"
   ]
  },
  {
   "cell_type": "code",
   "execution_count": 16,
   "id": "b95f2bf5",
   "metadata": {},
   "outputs": [
    {
     "data": {
      "text/plain": [
       "True"
      ]
     },
     "execution_count": 16,
     "metadata": {},
     "output_type": "execute_result"
    }
   ],
   "source": [
    "isVowel(\"I\")"
   ]
  },
  {
   "cell_type": "code",
   "execution_count": null,
   "id": "88b9f721",
   "metadata": {},
   "outputs": [],
   "source": []
  },
  {
   "cell_type": "code",
   "execution_count": 17,
   "id": "3d479309",
   "metadata": {},
   "outputs": [],
   "source": [
    "# Write a Python program using function concept that maps list of words into a list of integers\n",
    "# representing the lengths of the corresponding words."
   ]
  },
  {
   "cell_type": "code",
   "execution_count": 23,
   "id": "cb4a380a",
   "metadata": {},
   "outputs": [],
   "source": [
    "def countcharacters(list_1):\n",
    "    try:\n",
    "        list_2= [len(i) for i in list_1]\n",
    "        return list_2\n",
    "    except Exception as e:\n",
    "        print(e)"
   ]
  },
  {
   "cell_type": "code",
   "execution_count": 27,
   "id": "36287232",
   "metadata": {},
   "outputs": [
    {
     "data": {
      "text/plain": [
       "[4, 6, 7]"
      ]
     },
     "execution_count": 27,
     "metadata": {},
     "output_type": "execute_result"
    }
   ],
   "source": [
    "countcharacters([\"char\",\"abcdef\",\"kjlhnni\"])"
   ]
  },
  {
   "cell_type": "code",
   "execution_count": 28,
   "id": "333d7eff",
   "metadata": {},
   "outputs": [],
   "source": [
    "#Write a function filter_long_words() that takes a list of words and an integer n and returns\n",
    "#the list of words that are longer than n."
   ]
  },
  {
   "cell_type": "code",
   "execution_count": 31,
   "id": "78b6ad4f",
   "metadata": {},
   "outputs": [],
   "source": [
    "def filer_long_words(list_1,n):\n",
    "    try:\n",
    "        \n",
    "        list_2= [  i   for i in list_1 if len(i)>n ]\n",
    "        return list_2\n",
    "    except Exception as e:\n",
    "        print(e)"
   ]
  },
  {
   "cell_type": "code",
   "execution_count": 33,
   "id": "ee2eb857",
   "metadata": {},
   "outputs": [
    {
     "data": {
      "text/plain": [
       "['efghij']"
      ]
     },
     "execution_count": 33,
     "metadata": {},
     "output_type": "execute_result"
    }
   ],
   "source": [
    "filer_long_words([\"abcd\",\"efghij\",\"efghi\"],5)"
   ]
  },
  {
   "cell_type": "code",
   "execution_count": null,
   "id": "9b8e61d6",
   "metadata": {},
   "outputs": [],
   "source": []
  }
 ],
 "metadata": {
  "kernelspec": {
   "display_name": "Python 3",
   "language": "python",
   "name": "python3"
  },
  "language_info": {
   "codemirror_mode": {
    "name": "ipython",
    "version": 3
   },
   "file_extension": ".py",
   "mimetype": "text/x-python",
   "name": "python",
   "nbconvert_exporter": "python",
   "pygments_lexer": "ipython3",
   "version": "3.8.8"
  }
 },
 "nbformat": 4,
 "nbformat_minor": 5
}
